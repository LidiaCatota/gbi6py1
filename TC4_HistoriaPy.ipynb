{
  "nbformat": 4,
  "nbformat_minor": 0,
  "metadata": {
    "colab": {
      "provenance": [],
      "authorship_tag": "ABX9TyPG924j/ZxwrT7pwk7GDNrM",
      "include_colab_link": true
    },
    "kernelspec": {
      "name": "python3",
      "display_name": "Python 3"
    },
    "language_info": {
      "name": "python"
    }
  },
  "cells": [
    {
      "cell_type": "markdown",
      "metadata": {
        "id": "view-in-github",
        "colab_type": "text"
      },
      "source": [
        "<a href=\"https://colab.research.google.com/github/LidiaCatota/gbi6py1/blob/main/TC4_HistoriaPy.ipynb\" target=\"_parent\"><img src=\"https://colab.research.google.com/assets/colab-badge.svg\" alt=\"Open In Colab\"/></a>"
      ]
    },
    {
      "cell_type": "markdown",
      "source": [
        " # <center><h1 style=\"color:blue; background-color:powderblue;\">GBI6 - BIOINFORMÁTICA</h1></center>\n",
        "\n",
        " # La historia del creador de Python\n",
        "\n",
        " Python fue creado por *Guido van Rossum*, un\n",
        "programador holandés a finales de los 80 y principio de\n",
        "los 90 cuando se encontraba trabajando en el sistema\n",
        "operativo Amoeba. En principio trabajo como un proyecto de afición para mantenerse ocupado durante las vacaciones de Navidad. El nombre del lenguaje se inspiró en el programa de televisión de la BBC *“Monty Python`s Flying Circus”* debido a que Guido Van Rossum era un gran aficionado del programa.De esta manera empezo los primeros lanzamientos de Python en diferentes versiones. \n",
        "\n",
        "[pagina web de historia de python](https://www.redalyc.org/pdf/1815/181531232001.pdf)\n",
        "\n",
        " # <center><img src=\"https://upload.wikimedia.org/wikipedia/commons/thumb/6/66/Guido_van_Rossum_OSCON_2006.jpg/1200px-Guido_van_Rossum_OSCON_2006.jpg\" width=320 height=290 />\n",
        "\n",
        "## 1. Historial de lanzamientos de Python \n",
        "- La publicación la primera versión del código Python (versión 0.9.0) fue en 1991. Dicha versión ya incluía buenas características, como algunos tipos de datos y funciones para la gestión de errores.\n",
        "\n",
        "- Python 1.0 se lanzó en 1994 con nuevas funciones para procesar fácilmente una lista de datos, como la asignación, el filtrado y la reducción.\n",
        "\n",
        "- Python 2.0 se lanzó el 16 de octubre de 2000, con nuevas características útiles para los programadores, como la compatibilidad con los caracteres Unicode y una forma más corta de recorrer una lista.\n",
        "\n",
        "- El 3 de diciembre de 2008, se lanzó Python 3.0. Incluía características como la función de impresión y más soporte para la división de números y la gestión de errores. \n",
        "\n",
        "- De esta forma desarrollo **Python 3.11.3** última version que contiene muchas funciones y optimizaciones nuevas. Nuevos cambios en el idioma de escritura.\n",
        "[pagina web de  de python](https://docs.python.org/3/)\n",
        "\n",
        "## 2. ¿Cuáles son las características de Python?\n",
        "1. Un lenguaje interpretado\n",
        "2. Un lenguaje fácil de utilizar\n",
        "3. Un lenguaje tipeado dinámicamente\n",
        "4. Un lenguaje de alto nivel\n",
        "5. Un lenguaje orientado a los objetos\n",
        "\n",
        "## 3. ¿Qué son las bibliotecas de Python?\n",
        "Una biblioteca es una colección de códigos usados con frecuencia que los desarrolladores pueden incluir en sus programas de Python para evitar tener que escribir el código desde cero.\n",
        "\n",
        "De igual modo son muchas las empresas, instituciones y organismos que utilizan Python en su día a día para mejorar sus sistemas de información. Veamos algunas de las más relevantes en la imagen.\n",
        "\n",
        "<img src=\"https://aprendepython.es/_images/who-uses-python.png\" width=480 height=300 />\n",
        "\n",
        "\n"
      ],
      "metadata": {
        "id": "qYO7-manMXOG"
      }
    },
    {
      "cell_type": "code",
      "source": [],
      "metadata": {
        "id": "xnlGCTlFM8-2"
      },
      "execution_count": null,
      "outputs": []
    },
    {
      "cell_type": "markdown",
      "source": [],
      "metadata": {
        "id": "DK4IEXW6M-LC"
      }
    }
  ]
}